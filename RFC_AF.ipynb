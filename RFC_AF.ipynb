{
 "cells": [
  {
   "cell_type": "code",
   "execution_count": 324,
   "metadata": {},
   "outputs": [],
   "source": [
    "import pandas as pd\n",
    "import numpy as np\n",
    "from sklearn.ensemble import RandomForestClassifier\n",
    "from sklearn.model_selection import train_test_split\n",
    "from sklearn.metrics import accuracy_score, classification_report\n",
    "import glob\n",
    "import matplotlib.pyplot as plt"
   ]
  },
  {
   "cell_type": "code",
   "execution_count": 325,
   "metadata": {},
   "outputs": [
    {
     "name": "stdout",
     "output_type": "stream",
     "text": [
      "      correct/anomalous          ra        dec  parallax      pmra     pmdec  \\\n",
      "0                     1  219.951395 -60.972606  0.368673 -2.559203 -2.056463   \n",
      "1                     1  219.790777 -60.981536       NaN       NaN       NaN   \n",
      "2                     1  219.803709 -60.975396       NaN       NaN       NaN   \n",
      "3                     1  219.778267 -60.976624       NaN       NaN       NaN   \n",
      "4                     1  219.785612 -60.974524       NaN       NaN       NaN   \n",
      "...                 ...         ...        ...       ...       ...       ...   \n",
      "7401                  1   28.845468  89.462600       NaN       NaN       NaN   \n",
      "7402                  1   27.815499  89.479682  0.360444 -0.155736  1.833010   \n",
      "7403                  1   27.681935  89.472701  0.724468  6.799206 -1.938184   \n",
      "7404                  1   30.878262  89.482899  0.183544  3.281337  0.156618   \n",
      "7405                  1   31.594724  89.483904  0.158085 -3.238124  3.092111   \n",
      "\n",
      "      astrometric_excess_noise      ruwe  phot_g_mean_mag  \\\n",
      "0                     0.334988  0.860546        16.469640   \n",
      "1                     3.933758       NaN        21.132620   \n",
      "2                     0.000000       NaN        21.190882   \n",
      "3                     4.193961       NaN        21.050072   \n",
      "4                     3.880906       NaN        20.967726   \n",
      "...                        ...       ...              ...   \n",
      "7401                 23.058962       NaN        21.568280   \n",
      "7402                  0.000000  0.983624        19.845778   \n",
      "7403                  0.225780  0.978518        19.312109   \n",
      "7404                  1.261585  1.038276        20.457355   \n",
      "7405                  1.266217  1.118461        19.324654   \n",
      "\n",
      "      phot_bp_rp_excess_factor     bp_rp  \n",
      "0                     1.510628  3.155283  \n",
      "1                     1.599961  1.749922  \n",
      "2                          NaN       NaN  \n",
      "3                     1.467885  1.568964  \n",
      "4                          NaN       NaN  \n",
      "...                        ...       ...  \n",
      "7401                  6.613431  1.866467  \n",
      "7402                  1.230336  0.774540  \n",
      "7403                  1.419945  2.355076  \n",
      "7404                  1.456104  1.676903  \n",
      "7405                  1.305445  1.481434  \n",
      "\n",
      "[7406 rows x 11 columns]\n",
      "Length of the dataset:  7406\n"
     ]
    }
   ],
   "source": [
    "# LOAD AND PREPROCESS THE DATA\n",
    "# Load the dataset\n",
    "\n",
    "file_paths = glob.glob('Data/CSV/*.csv')\n",
    "\n",
    "\n",
    "# Initialize an empty list to store DataFrames\n",
    "dfs = []\n",
    "\n",
    "# Iterate through the list of file paths and read each CSV into a DataFrame\n",
    "for file_path in file_paths:\n",
    "    df = pd.read_csv(file_path, sep=';')\n",
    "    dfs.append(df)\n",
    "\n",
    "# Concatenate all the DataFrames into one\n",
    "concatenated_df = pd.concat(dfs, ignore_index=True) \n",
    "\n",
    "print(concatenated_df)\n",
    "\n",
    "length_df = len(concatenated_df)\n",
    "print(\"Length of the dataset: \", length_df)"
   ]
  },
  {
   "cell_type": "code",
   "execution_count": 326,
   "metadata": {},
   "outputs": [
    {
     "name": "stdout",
     "output_type": "stream",
     "text": [
      "Length of the cleaned dataset:  6051\n"
     ]
    }
   ],
   "source": [
    "# PREPROCESSING\n",
    "df_cleaned = concatenated_df.dropna()\n",
    "\n",
    "length_df_cleaned = len(df_cleaned)\n",
    "print(\"Length of the cleaned dataset: \", length_df_cleaned)"
   ]
  },
  {
   "cell_type": "code",
   "execution_count": 327,
   "metadata": {},
   "outputs": [],
   "source": [
    "def augment_parallax_errors(df, anomaly_rate, error_factor):\n",
    "    \"\"\"\n",
    "    Augments the parallax values with errors to simulate anomalies.\n",
    "    \n",
    "    Parameters:\n",
    "    df (DataFrame): A DataFrame containing the original Gaia data.\n",
    "    anomaly_rate (float): The fraction of total objects that should be anomalous.\n",
    "    error_factor (float): A factor that determines the magnitude of the error introduced.\n",
    "\n",
    "    Returns:\n",
    "    DataFrame: A DataFrame with the augmented parallax data.\n",
    "    \"\"\"\n",
    "    # Make a copy of the DataFrame to avoid altering the original data\n",
    "    augmented_df = df.copy()\n",
    "    \n",
    "    # Calculate the number of objects to alter based on the anomaly rate\n",
    "    num_anomalies = int(len(df) * anomaly_rate)\n",
    "    \n",
    "    # Select random indices for introducing anomalies\n",
    "    anomaly_indices = np.random.choice(df.index, size=num_anomalies, replace=False)\n",
    "    \n",
    "    # Introduce errors in the parallax values\n",
    "    # The error can be a random value that depends on the error_factor and the current parallax value\n",
    "    augmented_df.loc[anomaly_indices, 'parallax'] += error_factor * np.random.randn(num_anomalies) * augmented_df.loc[anomaly_indices, 'parallax']\n",
    "    \n",
    "    # Mark the augmented objects as anomalous\n",
    "    augmented_df.loc[anomaly_indices, 'correct/anomalous'] = 0  # Assuming 0 represents anomalous in your dataset\n",
    "    \n",
    "    return augmented_df\n",
    "\n",
    "# Assuming you have a DataFrame `gaia_data` with your data\n",
    "# augmented_data = augment_parallax_errors(gaia_data, anomaly_rate=0.1, error_factor=0.5)\n",
    "# print(augmented_data.head())"
   ]
  },
  {
   "cell_type": "code",
   "execution_count": 328,
   "metadata": {},
   "outputs": [],
   "source": [
    "augmented_df = augment_parallax_errors(df_cleaned, anomaly_rate=0.1, error_factor=100.0)"
   ]
  },
  {
   "cell_type": "code",
   "execution_count": 329,
   "metadata": {},
   "outputs": [],
   "source": [
    "# Function to print class distribution\n",
    "def print_class_distribution(y_data):\n",
    "    count_class_0 = sum(y_data == 0)\n",
    "    count_class_1 = sum(y_data == 1)\n",
    "    total = len(y_data)\n",
    "    print(\"Class 0: {:.2f}%, Class 1: {:.2f}%\".format((count_class_0 / total) * 100, (count_class_1 / total) * 100))"
   ]
  },
  {
   "cell_type": "code",
   "execution_count": 330,
   "metadata": {},
   "outputs": [],
   "source": [
    "# Splitting the augmented dataset into initial training set and unlabeled pool\n",
    "initial_train_size = 50\n",
    "# Randomly sample initial training data\n",
    "initial_train_indices = np.random.choice(a=augmented_df.index, size=initial_train_size, replace=False)\n",
    "X_initial = augmented_df.drop('correct/anomalous', axis=1).loc[initial_train_indices]\n",
    "y_initial = augmented_df['correct/anomalous'].loc[initial_train_indices]\n",
    "# Create the pool by excluding the initial training data\n",
    "X_pool = augmented_df.drop('correct/anomalous', axis=1).drop(initial_train_indices)\n",
    "y_pool = augmented_df['correct/anomalous'].drop(initial_train_indices)"
   ]
  },
  {
   "cell_type": "code",
   "execution_count": 331,
   "metadata": {},
   "outputs": [
    {
     "data": {
      "text/html": [
       "<style>#sk-container-id-26 {color: black;}#sk-container-id-26 pre{padding: 0;}#sk-container-id-26 div.sk-toggleable {background-color: white;}#sk-container-id-26 label.sk-toggleable__label {cursor: pointer;display: block;width: 100%;margin-bottom: 0;padding: 0.3em;box-sizing: border-box;text-align: center;}#sk-container-id-26 label.sk-toggleable__label-arrow:before {content: \"▸\";float: left;margin-right: 0.25em;color: #696969;}#sk-container-id-26 label.sk-toggleable__label-arrow:hover:before {color: black;}#sk-container-id-26 div.sk-estimator:hover label.sk-toggleable__label-arrow:before {color: black;}#sk-container-id-26 div.sk-toggleable__content {max-height: 0;max-width: 0;overflow: hidden;text-align: left;background-color: #f0f8ff;}#sk-container-id-26 div.sk-toggleable__content pre {margin: 0.2em;color: black;border-radius: 0.25em;background-color: #f0f8ff;}#sk-container-id-26 input.sk-toggleable__control:checked~div.sk-toggleable__content {max-height: 200px;max-width: 100%;overflow: auto;}#sk-container-id-26 input.sk-toggleable__control:checked~label.sk-toggleable__label-arrow:before {content: \"▾\";}#sk-container-id-26 div.sk-estimator input.sk-toggleable__control:checked~label.sk-toggleable__label {background-color: #d4ebff;}#sk-container-id-26 div.sk-label input.sk-toggleable__control:checked~label.sk-toggleable__label {background-color: #d4ebff;}#sk-container-id-26 input.sk-hidden--visually {border: 0;clip: rect(1px 1px 1px 1px);clip: rect(1px, 1px, 1px, 1px);height: 1px;margin: -1px;overflow: hidden;padding: 0;position: absolute;width: 1px;}#sk-container-id-26 div.sk-estimator {font-family: monospace;background-color: #f0f8ff;border: 1px dotted black;border-radius: 0.25em;box-sizing: border-box;margin-bottom: 0.5em;}#sk-container-id-26 div.sk-estimator:hover {background-color: #d4ebff;}#sk-container-id-26 div.sk-parallel-item::after {content: \"\";width: 100%;border-bottom: 1px solid gray;flex-grow: 1;}#sk-container-id-26 div.sk-label:hover label.sk-toggleable__label {background-color: #d4ebff;}#sk-container-id-26 div.sk-serial::before {content: \"\";position: absolute;border-left: 1px solid gray;box-sizing: border-box;top: 0;bottom: 0;left: 50%;z-index: 0;}#sk-container-id-26 div.sk-serial {display: flex;flex-direction: column;align-items: center;background-color: white;padding-right: 0.2em;padding-left: 0.2em;position: relative;}#sk-container-id-26 div.sk-item {position: relative;z-index: 1;}#sk-container-id-26 div.sk-parallel {display: flex;align-items: stretch;justify-content: center;background-color: white;position: relative;}#sk-container-id-26 div.sk-item::before, #sk-container-id-26 div.sk-parallel-item::before {content: \"\";position: absolute;border-left: 1px solid gray;box-sizing: border-box;top: 0;bottom: 0;left: 50%;z-index: -1;}#sk-container-id-26 div.sk-parallel-item {display: flex;flex-direction: column;z-index: 1;position: relative;background-color: white;}#sk-container-id-26 div.sk-parallel-item:first-child::after {align-self: flex-end;width: 50%;}#sk-container-id-26 div.sk-parallel-item:last-child::after {align-self: flex-start;width: 50%;}#sk-container-id-26 div.sk-parallel-item:only-child::after {width: 0;}#sk-container-id-26 div.sk-dashed-wrapped {border: 1px dashed gray;margin: 0 0.4em 0.5em 0.4em;box-sizing: border-box;padding-bottom: 0.4em;background-color: white;}#sk-container-id-26 div.sk-label label {font-family: monospace;font-weight: bold;display: inline-block;line-height: 1.2em;}#sk-container-id-26 div.sk-label-container {text-align: center;}#sk-container-id-26 div.sk-container {/* jupyter's `normalize.less` sets `[hidden] { display: none; }` but bootstrap.min.css set `[hidden] { display: none !important; }` so we also need the `!important` here to be able to override the default hidden behavior on the sphinx rendered scikit-learn.org. See: https://github.com/scikit-learn/scikit-learn/issues/21755 */display: inline-block !important;position: relative;}#sk-container-id-26 div.sk-text-repr-fallback {display: none;}</style><div id=\"sk-container-id-26\" class=\"sk-top-container\"><div class=\"sk-text-repr-fallback\"><pre>RandomForestClassifier()</pre><b>In a Jupyter environment, please rerun this cell to show the HTML representation or trust the notebook. <br />On GitHub, the HTML representation is unable to render, please try loading this page with nbviewer.org.</b></div><div class=\"sk-container\" hidden><div class=\"sk-item\"><div class=\"sk-estimator sk-toggleable\"><input class=\"sk-toggleable__control sk-hidden--visually\" id=\"sk-estimator-id-26\" type=\"checkbox\" checked><label for=\"sk-estimator-id-26\" class=\"sk-toggleable__label sk-toggleable__label-arrow\">RandomForestClassifier</label><div class=\"sk-toggleable__content\"><pre>RandomForestClassifier()</pre></div></div></div></div></div>"
      ],
      "text/plain": [
       "RandomForestClassifier()"
      ]
     },
     "execution_count": 331,
     "metadata": {},
     "output_type": "execute_result"
    }
   ],
   "source": [
    "# Initialize and train the Random Forest Classifier\n",
    "rfc = RandomForestClassifier()\n",
    "rfc.fit(X_initial, y_initial)"
   ]
  },
  {
   "cell_type": "code",
   "execution_count": 332,
   "metadata": {},
   "outputs": [],
   "source": [
    " # # TODO\n",
    "        # -  make a graph that shows which combination of epochs and nr of datapoints gives the best result\n",
    "        # -  make a graph that shows the accuracy of the model, using the above combination, each time with different number of epochs \n",
    "        # -  zorgt een acquisition function ervoor dat de training data meer gebalanced wordt?"
   ]
  },
  {
   "cell_type": "code",
   "execution_count": 349,
   "metadata": {},
   "outputs": [
    {
     "name": "stdout",
     "output_type": "stream",
     "text": [
      "epochs 1 nr of datapoints 6000.0\n",
      "Class 0: 9.37%, Class 1: 90.63%\n",
      "epochs 50 nr of datapoints 120.0\n",
      "Class 0: 72.35%, Class 1: 27.65%\n",
      "epochs 100 nr of datapoints 60.0\n",
      "Class 0: 57.27%, Class 1: 42.73%\n",
      "epochs 150 nr of datapoints 40.0\n",
      "Class 0: 47.78%, Class 1: 52.22%\n",
      "Best combination (Epochs, Data points per epoch): (150, 40)\n",
      "Balance score: 0.04444444444444445\n"
     ]
    }
   ],
   "source": [
    "# UNCERTAINTY SAMPLING\n",
    "# Active learning loop (acquisition function)\n",
    "# Example: Adding 350 most uncertain points from the pool to the training set\n",
    "total_data_points = 6000\n",
    "augmented_df = augment_parallax_errors(df_cleaned, anomaly_rate=0.1, error_factor=100.0)\n",
    "X_pool_initial = augmented_df.drop('correct/anomalous', axis=1)\n",
    "y_pool_initial = augmented_df['correct/anomalous']\n",
    "\n",
    "# Dictionary to store the balance of the training set for each combination\n",
    "balance_results = {}\n",
    "\n",
    "# for i in range(1, total_data_points):\n",
    "# for i in [1, 50, 100, 250, 500, 1000]:\n",
    "for i in [1, 50, 100, 150]:\n",
    "    if total_data_points % i == 0:\n",
    "        X_pool = X_pool_initial.copy()\n",
    "        y_pool = y_pool_initial.copy()\n",
    "        X_train = X_initial.copy()\n",
    "        y_train = y_initial.copy()\n",
    "\n",
    "        epoch_balances = {}\n",
    "        \n",
    "        for epoch in range(i):\n",
    "            data_points_evaluated = (epoch + 1) * (total_data_points // i)\n",
    "            # print('epochs', i, 'nr of datapoints', total_data_points/i)\n",
    "            # Predict probabilities on the unlabeled data\n",
    "            probabilities = rfc.predict_proba(X_pool)\n",
    "\n",
    "            # Calculate uncertainty and select the most uncertain data points\n",
    "            ## MAX PROBABILITY\n",
    "            uncertainty = abs(probabilities[:, 1] - 0.5)\n",
    "\n",
    "            ## ENNTORPY\n",
    "            # epsilon = 1e-10  # A small constant\n",
    "            # uncertainty = -np.sum(probabilities * np.log(probabilities + epsilon), axis=1)\n",
    "            \n",
    "            n_most_uncertain =  int(total_data_points/i)  # Number of points to acquire in each iteration\n",
    "            most_uncertain_indices = np.argsort(uncertainty)[-n_most_uncertain:]\n",
    "\n",
    "            # Add these points to the training set\n",
    "            most_uncertain_points = X_pool.iloc[most_uncertain_indices]\n",
    "            most_uncertain_labels = y_pool.iloc[most_uncertain_indices]\n",
    "            X_train_extended = pd.concat([X_train, most_uncertain_points])\n",
    "            y_train_extended = pd.concat([y_train, most_uncertain_labels])\n",
    "\n",
    "            # Print class distribution\n",
    "            # print_class_distribution(y_train_extended)\n",
    "\n",
    "            # Calculate the balance score and add it to epoch_balances\n",
    "            class_distribution = y_train_extended.value_counts(normalize=True)\n",
    "            balance = abs(class_distribution[0] - class_distribution[1])\n",
    "            epoch_balances[data_points_evaluated] = balance\n",
    "\n",
    "            # Retrain the model on the extended training set\n",
    "            rfc.fit(X_train_extended, y_train_extended)\n",
    "\n",
    "            # Update the pool by excluding the most uncertain points\n",
    "            # Use boolean indexing for this\n",
    "            mask = X_pool.index.isin(most_uncertain_points.index)\n",
    "            X_pool = X_pool[~mask]\n",
    "            y_pool = y_pool[~mask]\n",
    "\n",
    "        # Evaluate the balance of the training set\n",
    "        class_distribution = y_train_extended.value_counts(normalize=True)\n",
    "        print('epochs', i, 'nr of datapoints', total_data_points/i)\n",
    "        print_class_distribution(y_train_extended)\n",
    "        # print(\"epoch_balances\", epoch_balances)\n",
    "\n",
    "        # Calculate the balance score\n",
    "        balance = abs(class_distribution[0] - class_distribution[1])\n",
    "        balance_results[(i, int(total_data_points/i))] = balance\n",
    "\n",
    "# Analyze the balance results to find the best combination\n",
    "best_combination = min(balance_results, key=balance_results.get)\n",
    "print(\"Best combination (Epochs, Data points per epoch):\", best_combination)\n",
    "print(\"Balance score:\", balance_results[best_combination]) #  lower balance score indicates a more balanced class distribution.\n",
    "\n"
   ]
  },
  {
   "cell_type": "code",
   "execution_count": 344,
   "metadata": {},
   "outputs": [
    {
     "data": {
      "image/png": "[encoded data removed]",
      "text/plain": [
       "<Figure size 1000x600 with 1 Axes>"
      ]
     },
     "metadata": {},
     "output_type": "display_data"
    }
   ],
   "source": [
    "# make a graph that shows which combination of epochs and nr of datapoints gives the best result\n",
    "# Extracting epochs and balance scores from the balance_results dictionary\n",
    "epochs = [key[0] for key in balance_results.keys()]\n",
    "balance_scores = [balance_results[key] for key in balance_results.keys()]\n",
    "\n",
    "# Plotting\n",
    "plt.figure(figsize=(10, 6))\n",
    "plt.plot(epochs, balance_scores, marker='o')\n",
    "plt.xlabel('Number of Epochs')\n",
    "plt.ylabel('Balance Score')\n",
    "plt.title('Class Distribution Balance vs. Number of Epochs')\n",
    "plt.grid(True)\n",
    "plt.show()"
   ]
  },
  {
   "cell_type": "code",
   "execution_count": 346,
   "metadata": {},
   "outputs": [
    {
     "ename": "TypeError",
     "evalue": "object of type 'numpy.float64' has no len()",
     "output_type": "error",
     "traceback": [
      "\u001b[0;31m---------------------------------------------------------------------------\u001b[0m",
      "\u001b[0;31mTypeError\u001b[0m                                 Traceback (most recent call last)",
      "Cell \u001b[0;32mIn[346], line 4\u001b[0m\n\u001b[1;32m      1\u001b[0m \u001b[39mfor\u001b[39;00m combination, balances \u001b[39min\u001b[39;00m balance_results\u001b[39m.\u001b[39mitems():\n\u001b[1;32m      2\u001b[0m     epochs, data_points_per_epoch \u001b[39m=\u001b[39m combination\n\u001b[0;32m----> 4\u001b[0m     \u001b[39mif\u001b[39;00m \u001b[39mlen\u001b[39;49m(balances) \u001b[39m!=\u001b[39m epochs:\n\u001b[1;32m      5\u001b[0m         \u001b[39mprint\u001b[39m(\u001b[39mf\u001b[39m\u001b[39m\"\u001b[39m\u001b[39mSkipping combination \u001b[39m\u001b[39m{\u001b[39;00mcombination\u001b[39m}\u001b[39;00m\u001b[39m due to mismatched lengths\u001b[39m\u001b[39m\"\u001b[39m)\n\u001b[1;32m      6\u001b[0m         \u001b[39mcontinue\u001b[39;00m\n",
      "\u001b[0;31mTypeError\u001b[0m: object of type 'numpy.float64' has no len()"
     ]
    }
   ],
   "source": []
  },
  {
   "cell_type": "code",
   "execution_count": 280,
   "metadata": {},
   "outputs": [
    {
     "name": "stdout",
     "output_type": "stream",
     "text": [
      "Class 0: 60.00%, Class 1: 40.00%\n",
      "Class 0: 13.64%, Class 1: 86.36%\n",
      "Class 0: 54.55%, Class 1: 45.45%\n",
      "Class 0: 48.18%, Class 1: 51.82%\n",
      "Class 0: 46.36%, Class 1: 53.64%\n",
      "Class 0: 20.00%, Class 1: 80.00%\n",
      "Class 0: 54.55%, Class 1: 45.45%\n",
      "Class 0: 36.36%, Class 1: 63.64%\n",
      "Class 0: 40.00%, Class 1: 60.00%\n",
      "Class 0: 53.64%, Class 1: 46.36%\n",
      "Class 0: 29.09%, Class 1: 70.91%\n",
      "Class 0: 44.55%, Class 1: 55.45%\n",
      "Class 0: 26.36%, Class 1: 73.64%\n",
      "Class 0: 36.36%, Class 1: 63.64%\n",
      "Class 0: 9.09%, Class 1: 90.91%\n",
      "Class 0: 8.18%, Class 1: 91.82%\n",
      "Class 0: 5.45%, Class 1: 94.55%\n",
      "Class 0: 5.45%, Class 1: 94.55%\n",
      "Class 0: 6.36%, Class 1: 93.64%\n",
      "Class 0: 5.45%, Class 1: 94.55%\n",
      "Class 0: 5.45%, Class 1: 94.55%\n",
      "Class 0: 5.45%, Class 1: 94.55%\n",
      "Class 0: 5.45%, Class 1: 94.55%\n",
      "Class 0: 6.36%, Class 1: 93.64%\n",
      "Class 0: 6.36%, Class 1: 93.64%\n",
      "Class 0: 6.36%, Class 1: 93.64%\n",
      "Class 0: 6.36%, Class 1: 93.64%\n",
      "Class 0: 9.09%, Class 1: 90.91%\n",
      "Class 0: 8.18%, Class 1: 91.82%\n",
      "Class 0: 7.27%, Class 1: 92.73%\n",
      "Class 0: 6.36%, Class 1: 93.64%\n",
      "Class 0: 6.36%, Class 1: 93.64%\n",
      "Class 0: 5.45%, Class 1: 94.55%\n",
      "Class 0: 5.45%, Class 1: 94.55%\n",
      "Class 0: 6.36%, Class 1: 93.64%\n",
      "Class 0: 5.45%, Class 1: 94.55%\n",
      "Class 0: 5.45%, Class 1: 94.55%\n",
      "Class 0: 5.45%, Class 1: 94.55%\n",
      "Class 0: 5.45%, Class 1: 94.55%\n",
      "Class 0: 6.36%, Class 1: 93.64%\n",
      "Class 0: 5.45%, Class 1: 94.55%\n",
      "Class 0: 5.45%, Class 1: 94.55%\n",
      "Class 0: 5.45%, Class 1: 94.55%\n",
      "Class 0: 5.45%, Class 1: 94.55%\n",
      "Class 0: 5.45%, Class 1: 94.55%\n",
      "Class 0: 6.36%, Class 1: 93.64%\n",
      "Class 0: 5.45%, Class 1: 94.55%\n",
      "Class 0: 5.45%, Class 1: 94.55%\n",
      "Class 0: 5.45%, Class 1: 94.55%\n",
      "Class 0: 7.27%, Class 1: 92.73%\n",
      "Class 0: 7.27%, Class 1: 92.73%\n",
      "Class 0: 7.27%, Class 1: 92.73%\n",
      "Class 0: 7.27%, Class 1: 92.73%\n",
      "Class 0: 10.00%, Class 1: 90.00%\n",
      "Class 0: 6.36%, Class 1: 93.64%\n",
      "Class 0: 5.45%, Class 1: 94.55%\n",
      "Class 0: 6.36%, Class 1: 93.64%\n",
      "Class 0: 5.45%, Class 1: 94.55%\n",
      "Class 0: 5.45%, Class 1: 94.55%\n",
      "Class 0: 5.45%, Class 1: 94.55%\n",
      "Class 0: 6.36%, Class 1: 93.64%\n",
      "Class 0: 5.45%, Class 1: 94.55%\n",
      "Class 0: 6.36%, Class 1: 93.64%\n",
      "Class 0: 6.36%, Class 1: 93.64%\n",
      "Class 0: 5.45%, Class 1: 94.55%\n",
      "Class 0: 5.45%, Class 1: 94.55%\n",
      "Class 0: 6.36%, Class 1: 93.64%\n",
      "Class 0: 7.27%, Class 1: 92.73%\n",
      "Class 0: 5.45%, Class 1: 94.55%\n",
      "Class 0: 5.45%, Class 1: 94.55%\n",
      "Class 0: 6.36%, Class 1: 93.64%\n",
      "Class 0: 5.45%, Class 1: 94.55%\n",
      "Class 0: 5.45%, Class 1: 94.55%\n",
      "Class 0: 5.45%, Class 1: 94.55%\n",
      "Class 0: 7.27%, Class 1: 92.73%\n",
      "Class 0: 11.82%, Class 1: 88.18%\n",
      "Class 0: 5.45%, Class 1: 94.55%\n",
      "Class 0: 5.45%, Class 1: 94.55%\n",
      "Class 0: 5.45%, Class 1: 94.55%\n",
      "Class 0: 5.45%, Class 1: 94.55%\n",
      "Class 0: 6.36%, Class 1: 93.64%\n",
      "Class 0: 7.27%, Class 1: 92.73%\n",
      "Class 0: 5.45%, Class 1: 94.55%\n",
      "Class 0: 5.45%, Class 1: 94.55%\n",
      "Class 0: 5.45%, Class 1: 94.55%\n",
      "Class 0: 5.45%, Class 1: 94.55%\n",
      "Class 0: 5.45%, Class 1: 94.55%\n",
      "Class 0: 5.45%, Class 1: 94.55%\n",
      "Class 0: 6.36%, Class 1: 93.64%\n",
      "Class 0: 5.45%, Class 1: 94.55%\n",
      "Class 0: 5.45%, Class 1: 94.55%\n",
      "Class 0: 5.45%, Class 1: 94.55%\n",
      "Class 0: 6.36%, Class 1: 93.64%\n",
      "Class 0: 6.36%, Class 1: 93.64%\n",
      "Class 0: 5.45%, Class 1: 94.55%\n",
      "Class 0: 5.45%, Class 1: 94.55%\n",
      "Class 0: 5.45%, Class 1: 94.55%\n",
      "Class 0: 5.45%, Class 1: 94.55%\n",
      "Class 0: 5.45%, Class 1: 94.55%\n",
      "Class 0: 5.45%, Class 1: 94.55%\n"
     ]
    }
   ],
   "source": [
    "# # UNCERTAINTY SAMPLING\n",
    "# # Active learning loop (acquisition function)\n",
    "# # Example: Adding 350 most uncertain points from the pool to the training set\n",
    "# for _ in range(100):  # Run 7 iterations (50 points each iteration)\n",
    "#     # Predict probabilities on the unlabeled data\n",
    "#     probabilities = rfc.predict_proba(X_pool)\n",
    "\n",
    "#     # Calculate uncertainty and select the most uncertain data points\n",
    "#     uncertainty = abs(probabilities[:, 1] - 0.5)\n",
    "#     n_most_uncertain = 60  # Number of points to acquire in each iteration\n",
    "#     most_uncertain_indices = uncertainty.argsort()[:n_most_uncertain]\n",
    "\n",
    "#     # Add these points to the training set\n",
    "#     most_uncertain_points = X_pool.iloc[most_uncertain_indices]\n",
    "#     most_uncertain_labels = y_pool.iloc[most_uncertain_indices]\n",
    "#     X_train_extended = pd.concat([X_initial, most_uncertain_points])\n",
    "#     y_train_extended = pd.concat([y_initial, most_uncertain_labels])\n",
    "\n",
    "#     # Print class distribution\n",
    "#     print_class_distribution(y_train_extended)\n",
    "\n",
    "#     # Retrain the model on the extended training set\n",
    "#     rfc.fit(X_train_extended, y_train_extended)\n",
    "\n",
    "#     # Update the pool by excluding the most uncertain points\n",
    "#     # Use boolean indexing for this\n",
    "#     mask = X_pool.index.isin(most_uncertain_points.index)\n",
    "#     X_pool = X_pool[~mask]\n",
    "#     y_pool = y_pool[~mask]"
   ]
  },
  {
   "cell_type": "code",
   "execution_count": null,
   "metadata": {},
   "outputs": [],
   "source": [
    "# Active learning loop (acquisition function)\n",
    "# # Example: Adding 350 most uncertain points from the pool to the training set\n",
    "# for _ in range(100):  # Run 7 iterations (50 points each iteration)\n",
    "#     # Predict probabilities on the unlabeled data\n",
    "#     probabilities = rfc.predict_proba(X_pool)\n",
    "\n",
    "#     # Calculate uncertainty and select the most uncertain data points\n",
    "#     uncertainty = abs(probabilities[:, 1] - 0.5)\n",
    "#     n_most_uncertain = 60  # Number of points to acquire in each iteration\n",
    "#     most_uncertain_indices = uncertainty.argsort()[:n_most_uncertain]\n",
    "\n",
    "#     # Add these points to the training set\n",
    "#     most_uncertain_points = X_pool.iloc[most_uncertain_indices]\n",
    "#     most_uncertain_labels = y_pool.iloc[most_uncertain_indices]\n",
    "#     X_train_extended = pd.concat([X_initial, most_uncertain_points])\n",
    "#     y_train_extended = pd.concat([y_initial, most_uncertain_labels])\n",
    "\n",
    "#     # Print class distribution\n",
    "#     print_class_distribution(y_train_extended)\n",
    "\n",
    "#     # Retrain the model on the extended training set\n",
    "#     rfc.fit(X_train_extended, y_train_extended)\n",
    "\n",
    "#     # Update the pool by excluding the most uncertain points\n",
    "#     # Use boolean indexing for this\n",
    "#     mask = X_pool.index.isin(most_uncertain_points.index)\n",
    "#     X_pool = X_pool[~mask]\n",
    "#     y_pool = y_pool[~mask]"
   ]
  },
  {
   "cell_type": "code",
   "execution_count": 281,
   "metadata": {},
   "outputs": [
    {
     "name": "stdout",
     "output_type": "stream",
     "text": [
      "Length of the dataset:  921\n",
      "Length of the cleaned dataset:  741\n",
      "Index(['correct/anomalous', 'ra', 'dec', 'parallax', 'pmra', 'pmdec',\n",
      "       'astrometric_excess_noise', 'ruwe', 'phot_g_mean_mag',\n",
      "       'phot_bp_rp_excess_factor', 'bp_rp'],\n",
      "      dtype='object')\n"
     ]
    }
   ],
   "source": [
    "# Loading a separate test set from another CSV file\n",
    "test_df = pd.read_csv('Data/Capella5arcmin.csv', sep=';')\n",
    "length_df = len(test_df)\n",
    "print(\"Length of the dataset: \", length_df)\n",
    "\n",
    "df_cleaned = test_df.dropna()\n",
    "length_df_cleaned = len(df_cleaned)\n",
    "print(\"Length of the cleaned dataset: \", length_df_cleaned)\n",
    "\n",
    "column_names = df_cleaned.columns\n",
    "print(column_names)\n",
    "\n",
    "augmented_test_df = augment_parallax_errors(df_cleaned, anomaly_rate=0.5, error_factor=100.0)\n",
    "X_test = augmented_test_df.drop('correct/anomalous', axis=1)\n",
    "y_test = augmented_test_df['correct/anomalous']"
   ]
  },
  {
   "cell_type": "code",
   "execution_count": 282,
   "metadata": {},
   "outputs": [
    {
     "name": "stdout",
     "output_type": "stream",
     "text": [
      "Accuracy: 0.5870445344129555\n",
      "\n",
      "Classification Report:\n",
      "               precision    recall  f1-score   support\n",
      "\n",
      "           0       1.00      0.17      0.29       370\n",
      "           1       0.55      1.00      0.71       371\n",
      "\n",
      "    accuracy                           0.59       741\n",
      "   macro avg       0.77      0.59      0.50       741\n",
      "weighted avg       0.77      0.59      0.50       741\n",
      "\n"
     ]
    }
   ],
   "source": [
    "# Evaluate the model on the new test set\n",
    "y_pred = rfc.predict(X_test)\n",
    "print(\"Accuracy:\", accuracy_score(y_test, y_pred))\n",
    "print(\"\\nClassification Report:\\n\", classification_report(y_test, y_pred))"
   ]
  },
  {
   "cell_type": "code",
   "execution_count": null,
   "metadata": {},
   "outputs": [],
   "source": []
  }
 ],
 "metadata": {
  "kernelspec": {
   "display_name": "HLML",
   "language": "python",
   "name": "python3"
  },
  "language_info": {
   "codemirror_mode": {
    "name": "ipython",
    "version": 3
   },
   "file_extension": ".py",
   "mimetype": "text/x-python",
   "name": "python",
   "nbconvert_exporter": "python",
   "pygments_lexer": "ipython3",
   "version": "3.9.18"
  },
  "orig_nbformat": 4
 },
 "nbformat": 4,
 "nbformat_minor": 2
}
