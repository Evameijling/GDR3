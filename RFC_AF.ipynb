{
 "cells": [
  {
   "cell_type": "code",
   "execution_count": 113,
   "metadata": {},
   "outputs": [],
   "source": [
    "import pandas as pd\n",
    "import numpy as np\n",
    "from sklearn.ensemble import RandomForestClassifier\n",
    "from sklearn.model_selection import train_test_split\n",
    "from sklearn.metrics import accuracy_score, classification_report"
   ]
  },
  {
   "cell_type": "code",
   "execution_count": 114,
   "metadata": {},
   "outputs": [
    {
     "name": "stdout",
     "output_type": "stream",
     "text": [
      "Length of the dataset:  1406\n"
     ]
    }
   ],
   "source": [
    "# LOAD AND PREPROCESS THE DATA\n",
    "# Load the dataset\n",
    "df = pd.read_csv('Data/Polaris15arcmin.csv', sep=';')\n",
    "\n",
    "length_df = len(df)\n",
    "print(\"Length of the dataset: \", length_df)"
   ]
  },
  {
   "cell_type": "code",
   "execution_count": 115,
   "metadata": {},
   "outputs": [
    {
     "name": "stdout",
     "output_type": "stream",
     "text": [
      "Length of the cleaned dataset:  1248\n"
     ]
    }
   ],
   "source": [
    "# PREPROCESSING\n",
    "df_cleaned = df.dropna()\n",
    "\n",
    "length_df_cleaned = len(df_cleaned)\n",
    "print(\"Length of the cleaned dataset: \", length_df_cleaned)"
   ]
  },
  {
   "cell_type": "code",
   "execution_count": 116,
   "metadata": {},
   "outputs": [],
   "source": [
    "def augment_parallax_errors(df, anomaly_rate=0.1, error_factor=1.0):\n",
    "    \"\"\"\n",
    "    Augments the parallax values with errors to simulate anomalies.\n",
    "    \n",
    "    Parameters:\n",
    "    df (DataFrame): A DataFrame containing the original Gaia data.\n",
    "    anomaly_rate (float): The fraction of total objects that should be anomalous.\n",
    "    error_factor (float): A factor that determines the magnitude of the error introduced.\n",
    "\n",
    "    Returns:\n",
    "    DataFrame: A DataFrame with the augmented parallax data.\n",
    "    \"\"\"\n",
    "    # Make a copy of the DataFrame to avoid altering the original data\n",
    "    augmented_df = df.copy()\n",
    "    \n",
    "    # Calculate the number of objects to alter based on the anomaly rate\n",
    "    num_anomalies = int(len(df) * anomaly_rate)\n",
    "    \n",
    "    # Select random indices for introducing anomalies\n",
    "    anomaly_indices = np.random.choice(df.index, size=num_anomalies, replace=False)\n",
    "    \n",
    "    # Introduce errors in the parallax values\n",
    "    # The error can be a random value that depends on the error_factor and the current parallax value\n",
    "    augmented_df.loc[anomaly_indices, 'parallax'] += error_factor * np.random.randn(num_anomalies) * augmented_df.loc[anomaly_indices, 'parallax']\n",
    "    \n",
    "    # Mark the augmented objects as anomalous\n",
    "    augmented_df.loc[anomaly_indices, 'correct/anomalous'] = 0  # Assuming 0 represents anomalous in your dataset\n",
    "    \n",
    "    return augmented_df\n",
    "\n",
    "# Assuming you have a DataFrame `gaia_data` with your data\n",
    "# augmented_data = augment_parallax_errors(gaia_data, anomaly_rate=0.1, error_factor=0.5)\n",
    "# print(augmented_data.head())"
   ]
  },
  {
   "cell_type": "code",
   "execution_count": 117,
   "metadata": {},
   "outputs": [],
   "source": [
    "augmented_df = augment_parallax_errors(df_cleaned, anomaly_rate=0.1, error_factor=1.0)"
   ]
  },
  {
   "cell_type": "code",
   "execution_count": 118,
   "metadata": {},
   "outputs": [],
   "source": [
    "# Function to print class distribution\n",
    "def print_class_distribution(y_data):\n",
    "    count_class_0 = sum(y_data == 0)\n",
    "    count_class_1 = sum(y_data == 1)\n",
    "    total = len(y_data)\n",
    "    print(\"Class 0: {:.2f}%, Class 1: {:.2f}%\".format((count_class_0 / total) * 100, (count_class_1 / total) * 100))"
   ]
  },
  {
   "cell_type": "code",
   "execution_count": 119,
   "metadata": {},
   "outputs": [],
   "source": [
    "# Splitting the augmented dataset into initial training set and unlabeled pool\n",
    "initial_train_size = 150\n",
    "# Randomly sample initial training data\n",
    "initial_train_indices = np.random.choice(a=augmented_df.index, size=initial_train_size, replace=False)\n",
    "X_initial = augmented_df.drop('correct/anomalous', axis=1).loc[initial_train_indices]\n",
    "y_initial = augmented_df['correct/anomalous'].loc[initial_train_indices]\n",
    "# Create the pool by excluding the initial training data\n",
    "X_pool = augmented_df.drop('correct/anomalous', axis=1).drop(initial_train_indices)\n",
    "y_pool = augmented_df['correct/anomalous'].drop(initial_train_indices)"
   ]
  },
  {
   "cell_type": "code",
   "execution_count": 120,
   "metadata": {},
   "outputs": [
    {
     "data": {
      "text/html": [
       "<style>#sk-container-id-14 {color: black;}#sk-container-id-14 pre{padding: 0;}#sk-container-id-14 div.sk-toggleable {background-color: white;}#sk-container-id-14 label.sk-toggleable__label {cursor: pointer;display: block;width: 100%;margin-bottom: 0;padding: 0.3em;box-sizing: border-box;text-align: center;}#sk-container-id-14 label.sk-toggleable__label-arrow:before {content: \"▸\";float: left;margin-right: 0.25em;color: #696969;}#sk-container-id-14 label.sk-toggleable__label-arrow:hover:before {color: black;}#sk-container-id-14 div.sk-estimator:hover label.sk-toggleable__label-arrow:before {color: black;}#sk-container-id-14 div.sk-toggleable__content {max-height: 0;max-width: 0;overflow: hidden;text-align: left;background-color: #f0f8ff;}#sk-container-id-14 div.sk-toggleable__content pre {margin: 0.2em;color: black;border-radius: 0.25em;background-color: #f0f8ff;}#sk-container-id-14 input.sk-toggleable__control:checked~div.sk-toggleable__content {max-height: 200px;max-width: 100%;overflow: auto;}#sk-container-id-14 input.sk-toggleable__control:checked~label.sk-toggleable__label-arrow:before {content: \"▾\";}#sk-container-id-14 div.sk-estimator input.sk-toggleable__control:checked~label.sk-toggleable__label {background-color: #d4ebff;}#sk-container-id-14 div.sk-label input.sk-toggleable__control:checked~label.sk-toggleable__label {background-color: #d4ebff;}#sk-container-id-14 input.sk-hidden--visually {border: 0;clip: rect(1px 1px 1px 1px);clip: rect(1px, 1px, 1px, 1px);height: 1px;margin: -1px;overflow: hidden;padding: 0;position: absolute;width: 1px;}#sk-container-id-14 div.sk-estimator {font-family: monospace;background-color: #f0f8ff;border: 1px dotted black;border-radius: 0.25em;box-sizing: border-box;margin-bottom: 0.5em;}#sk-container-id-14 div.sk-estimator:hover {background-color: #d4ebff;}#sk-container-id-14 div.sk-parallel-item::after {content: \"\";width: 100%;border-bottom: 1px solid gray;flex-grow: 1;}#sk-container-id-14 div.sk-label:hover label.sk-toggleable__label {background-color: #d4ebff;}#sk-container-id-14 div.sk-serial::before {content: \"\";position: absolute;border-left: 1px solid gray;box-sizing: border-box;top: 0;bottom: 0;left: 50%;z-index: 0;}#sk-container-id-14 div.sk-serial {display: flex;flex-direction: column;align-items: center;background-color: white;padding-right: 0.2em;padding-left: 0.2em;position: relative;}#sk-container-id-14 div.sk-item {position: relative;z-index: 1;}#sk-container-id-14 div.sk-parallel {display: flex;align-items: stretch;justify-content: center;background-color: white;position: relative;}#sk-container-id-14 div.sk-item::before, #sk-container-id-14 div.sk-parallel-item::before {content: \"\";position: absolute;border-left: 1px solid gray;box-sizing: border-box;top: 0;bottom: 0;left: 50%;z-index: -1;}#sk-container-id-14 div.sk-parallel-item {display: flex;flex-direction: column;z-index: 1;position: relative;background-color: white;}#sk-container-id-14 div.sk-parallel-item:first-child::after {align-self: flex-end;width: 50%;}#sk-container-id-14 div.sk-parallel-item:last-child::after {align-self: flex-start;width: 50%;}#sk-container-id-14 div.sk-parallel-item:only-child::after {width: 0;}#sk-container-id-14 div.sk-dashed-wrapped {border: 1px dashed gray;margin: 0 0.4em 0.5em 0.4em;box-sizing: border-box;padding-bottom: 0.4em;background-color: white;}#sk-container-id-14 div.sk-label label {font-family: monospace;font-weight: bold;display: inline-block;line-height: 1.2em;}#sk-container-id-14 div.sk-label-container {text-align: center;}#sk-container-id-14 div.sk-container {/* jupyter's `normalize.less` sets `[hidden] { display: none; }` but bootstrap.min.css set `[hidden] { display: none !important; }` so we also need the `!important` here to be able to override the default hidden behavior on the sphinx rendered scikit-learn.org. See: https://github.com/scikit-learn/scikit-learn/issues/21755 */display: inline-block !important;position: relative;}#sk-container-id-14 div.sk-text-repr-fallback {display: none;}</style><div id=\"sk-container-id-14\" class=\"sk-top-container\"><div class=\"sk-text-repr-fallback\"><pre>RandomForestClassifier()</pre><b>In a Jupyter environment, please rerun this cell to show the HTML representation or trust the notebook. <br />On GitHub, the HTML representation is unable to render, please try loading this page with nbviewer.org.</b></div><div class=\"sk-container\" hidden><div class=\"sk-item\"><div class=\"sk-estimator sk-toggleable\"><input class=\"sk-toggleable__control sk-hidden--visually\" id=\"sk-estimator-id-14\" type=\"checkbox\" checked><label for=\"sk-estimator-id-14\" class=\"sk-toggleable__label sk-toggleable__label-arrow\">RandomForestClassifier</label><div class=\"sk-toggleable__content\"><pre>RandomForestClassifier()</pre></div></div></div></div></div>"
      ],
      "text/plain": [
       "RandomForestClassifier()"
      ]
     },
     "execution_count": 120,
     "metadata": {},
     "output_type": "execute_result"
    }
   ],
   "source": [
    "# Initialize and train the Random Forest Classifier\n",
    "rfc = RandomForestClassifier()\n",
    "rfc.fit(X_initial, y_initial)"
   ]
  },
  {
   "cell_type": "code",
   "execution_count": 121,
   "metadata": {},
   "outputs": [
    {
     "name": "stdout",
     "output_type": "stream",
     "text": [
      "Class 0: 10.00%, Class 1: 90.00%\n",
      "Class 0: 13.50%, Class 1: 86.50%\n",
      "Class 0: 10.50%, Class 1: 89.50%\n",
      "Class 0: 11.00%, Class 1: 89.00%\n",
      "Class 0: 10.50%, Class 1: 89.50%\n",
      "Class 0: 13.50%, Class 1: 86.50%\n",
      "Class 0: 9.50%, Class 1: 90.50%\n"
     ]
    }
   ],
   "source": [
    "# UNCERTAINTY SAMPLING\n",
    "# Active learning loop (acquisition function)\n",
    "# Example: Adding 350 most uncertain points from the pool to the training set\n",
    "for _ in range(7):  # Run 7 iterations (50 points each iteration)\n",
    "    # Predict probabilities on the unlabeled data\n",
    "    probabilities = rfc.predict_proba(X_pool)\n",
    "\n",
    "    # Calculate uncertainty and select the most uncertain data points\n",
    "    uncertainty = abs(probabilities[:, 1] - 0.5)\n",
    "    n_most_uncertain = 50  # Number of points to acquire in each iteration\n",
    "    most_uncertain_indices = uncertainty.argsort()[:n_most_uncertain]\n",
    "\n",
    "    # Add these points to the training set\n",
    "    most_uncertain_points = X_pool.iloc[most_uncertain_indices]\n",
    "    most_uncertain_labels = y_pool.iloc[most_uncertain_indices]\n",
    "    X_train_extended = pd.concat([X_initial, most_uncertain_points])\n",
    "    y_train_extended = pd.concat([y_initial, most_uncertain_labels])\n",
    "\n",
    "    # Print class distribution\n",
    "    print_class_distribution(y_train_extended)\n",
    "\n",
    "    # Retrain the model on the extended training set\n",
    "    rfc.fit(X_train_extended, y_train_extended)\n",
    "\n",
    "    # Update the pool by excluding the most uncertain points\n",
    "    # Use boolean indexing for this\n",
    "    mask = X_pool.index.isin(most_uncertain_points.index)\n",
    "    X_pool = X_pool[~mask]\n",
    "    y_pool = y_pool[~mask]"
   ]
  },
  {
   "cell_type": "code",
   "execution_count": 123,
   "metadata": {},
   "outputs": [],
   "source": [
    "# CONFINDENCE SAMPLING\n",
    "# for _ in range(7):  # Run 7 iterations\n",
    "#     # Predict probabilities on the unlabeled data\n",
    "#     probabilities = rfc.predict_proba(X_pool)\n",
    "\n",
    "#     # Calculate confidence and select the most confident data points about the minority class\n",
    "#     confidence = probabilities[:, 0]  # Assuming class 0 is the minority class\n",
    "#     n_most_confident = 50  # Number of points to acquire in each iteration\n",
    "\n",
    "#     most_confident_indices = confidence.argsort()[-n_most_confident:]  # Select top confident indices\n",
    "\n",
    "#     # Add these points to the training set\n",
    "#     most_confident_points = X_pool.iloc[most_confident_indices]\n",
    "#     most_confident_labels = y_pool.iloc[most_confident_indices]\n",
    "#     X_train_extended = pd.concat([X_initial, most_confident_points])\n",
    "#     y_train_extended = pd.concat([y_initial, most_confident_labels])\n",
    "\n",
    "#     # Print class distribution\n",
    "#     print_class_distribution(y_train_extended)\n",
    "\n",
    "#     # Retrain the model on the extended training set\n",
    "#     rfc.fit(X_train_extended, y_train_extended)\n",
    "\n",
    "#     # Update the pool by excluding the most confident points\n",
    "#     mask = X_pool.index.isin(most_confident_points.index)\n",
    "#     X_pool = X_pool[~mask]\n",
    "#     y_pool = y_pool[~mask]"
   ]
  },
  {
   "cell_type": "code",
   "execution_count": 130,
   "metadata": {},
   "outputs": [
    {
     "name": "stdout",
     "output_type": "stream",
     "text": [
      "Length of the dataset:  921\n",
      "Length of the cleaned dataset:  741\n",
      "Index(['correct/anomalous', 'ra', 'dec', 'parallax', 'pmra', 'pmdec',\n",
      "       'astrometric_excess_noise', 'ruwe', 'phot_g_mean_mag',\n",
      "       'phot_bp_rp_excess_factor', 'bp_rp'],\n",
      "      dtype='object')\n"
     ]
    }
   ],
   "source": [
    "# Loading a separate test set from another CSV file\n",
    "test_df = pd.read_csv('Data/Capella5arcmin.csv', sep=';')\n",
    "length_df = len(test_df)\n",
    "print(\"Length of the dataset: \", length_df)\n",
    "\n",
    "df_cleaned = test_df.dropna()\n",
    "length_df_cleaned = len(df_cleaned)\n",
    "print(\"Length of the cleaned dataset: \", length_df_cleaned)\n",
    "\n",
    "column_names = df_cleaned.columns\n",
    "print(column_names)\n",
    "\n",
    "augmented_test_df = augment_parallax_errors(df_cleaned, anomaly_rate=0.1, error_factor=1.0)\n",
    "X_test = augmented_test_df.drop('correct/anomalous', axis=1)\n",
    "y_test = augmented_test_df['correct/anomalous']"
   ]
  },
  {
   "cell_type": "code",
   "execution_count": 132,
   "metadata": {},
   "outputs": [
    {
     "name": "stdout",
     "output_type": "stream",
     "text": [
      "Accuracy: 0.7584345479082322\n",
      "\n",
      "Classification Report:\n",
      "               precision    recall  f1-score   support\n",
      "\n",
      "           0       0.11      0.19      0.14        74\n",
      "           1       0.90      0.82      0.86       667\n",
      "\n",
      "    accuracy                           0.76       741\n",
      "   macro avg       0.50      0.51      0.50       741\n",
      "weighted avg       0.82      0.76      0.79       741\n",
      "\n"
     ]
    }
   ],
   "source": [
    "# Evaluate the model on the new test set\n",
    "y_pred = rfc.predict(X_test)\n",
    "print(\"Accuracy:\", accuracy_score(y_test, y_pred))\n",
    "print(\"\\nClassification Report:\\n\", classification_report(y_test, y_pred))"
   ]
  }
 ],
 "metadata": {
  "kernelspec": {
   "display_name": "HLML",
   "language": "python",
   "name": "python3"
  },
  "language_info": {
   "codemirror_mode": {
    "name": "ipython",
    "version": 3
   },
   "file_extension": ".py",
   "mimetype": "text/x-python",
   "name": "python",
   "nbconvert_exporter": "python",
   "pygments_lexer": "ipython3",
   "version": "3.9.18"
  },
  "orig_nbformat": 4
 },
 "nbformat": 4,
 "nbformat_minor": 2
}
